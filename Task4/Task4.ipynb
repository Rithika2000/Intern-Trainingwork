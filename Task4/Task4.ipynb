{
  "nbformat": 4,
  "nbformat_minor": 0,
  "metadata": {
    "colab": {
      "name": "Task4.ipynb",
      "provenance": [],
      "collapsed_sections": []
    },
    "kernelspec": {
      "name": "python3",
      "display_name": "Python 3"
    },
    "language_info": {
      "name": "python"
    }
  },
  "cells": [
    {
      "cell_type": "code",
      "metadata": {
        "colab": {
          "base_uri": "https://localhost:8080/"
        },
        "id": "mBwRWz3hUWtq",
        "outputId": "c219fc88-050a-4924-8163-876a0e5b9800"
      },
      "source": [
        "import ClointFusion as cf\n",
        "import  os\n",
        "import cryptocode"
      ],
      "execution_count": 1,
      "outputs": [
        {
          "output_type": "stream",
          "text": [
            "Welcome to ClointFusion, Made in India with ❤️ .Version: 0.0.98\n"
          ],
          "name": "stdout"
        }
      ]
    },
    {
      "cell_type": "code",
      "metadata": {
        "colab": {
          "base_uri": "https://localhost:8080/"
        },
        "id": "OHSlXfosV7iY",
        "outputId": "979a5158-7d9b-4ae4-b64e-94cc4d7fad17"
      },
      "source": [
        "excelpath = os.getcwd() + \"\\Documents\\Task4\\Email.xlsx\" \n",
        "print(excelpath)"
      ],
      "execution_count": 2,
      "outputs": [
        {
          "output_type": "stream",
          "text": [
            "C:\\Users\\G Rithika\\Documents\\Task4\\Email.xlsx\n"
          ],
          "name": "stdout"
        }
      ]
    },
    {
      "cell_type": "code",
      "metadata": {
        "id": "PUQbZneRYbJI"
      },
      "source": [
        "#To create a new Excel and add information\n",
        "cf.launch_any_exe_bat_application(excelpath) \n",
        "cf.key_press('Ctrl + A')\n",
        "cf.key_press('Ctrl + C')\n",
        "cf.key_press('Alt + F4')\n",
        "cf.key_hit_enter()"
      ],
      "execution_count": null,
      "outputs": []
    },
    {
      "cell_type": "code",
      "metadata": {
        "id": "Vw0AuEmYoMo9"
      },
      "source": [
        "excelpath1 = os.getcwd() + \"\\Documents\\Task4\\Email1.xlsx\" \n"
      ],
      "execution_count": 4,
      "outputs": []
    },
    {
      "cell_type": "code",
      "metadata": {
        "id": "CBj9QEVGtpCR"
      },
      "source": [
        "excelpath1 = os.getcwd() + \"\\Documents\\Task4\\Email1.xlsx\" \n",
        "cf.launch_any_exe_bat_application(excelpath1)\n",
        "\n",
        "cf.key_press('Ctrl + V')"
      ],
      "execution_count": null,
      "outputs": []
    },
    {
      "cell_type": "code",
      "metadata": {
        "id": "k9evBUypuUQ-"
      },
      "source": [
        "#These are New text files ,we nees to insert data and make changes\n",
        "excelpath10 = os.getcwd() + \"\\Documents\\Task4\\Email1.txt\" \n",
        "excelpath12 = os.getcwd() + \"\\Documents\\Task4\\Email2.txt\" \n",
        "excelpath13 = os.getcwd() + \"\\Documents\\Task4\\Email3.txt\" \n",
        "excelpath14 = os.getcwd() + \"\\Documents\\Task4\\Email4.txt\" \n",
        "excelpath15 = os.getcwd() + \"\\Documents\\Task4\\Email5.txt\" "
      ],
      "execution_count": 5,
      "outputs": []
    },
    {
      "cell_type": "code",
      "metadata": {
        "id": "dYTjpHg1u_89"
      },
      "source": [
        "#In the New Excel file making changes for accurate information\n",
        "cf.launch_any_exe_bat_application(excelpath1)\n",
        "cf.key_press('Ctrl + H')\n",
        "cf.key_write_enter('6')\n",
        "cf.key_press('tab')\n",
        "cf.key_write_enter('7')\n",
        "cf.key_press('Alt + A')\n",
        "cf.key_hit_enter()\n",
        "cf.key_press('Alt + F4')"
      ],
      "execution_count": null,
      "outputs": []
    },
    {
      "cell_type": "code",
      "metadata": {
        "id": "yRmAc4ns0Jn_"
      },
      "source": [
        "#In the New Excel file making changes for accurate information\n",
        "cf.launch_any_exe_bat_application(excelpath1)\n",
        "cf.key_press('Ctrl + H')\n",
        "cf.key_write_enter('13TH March 2021')\n",
        "cf.key_press('tab')\n",
        "cf.key_write_enter('10TH April 2021')\n",
        "cf.key_press('Alt + A')\n",
        "cf.key_hit_enter()\n",
        "cf.key_press('Alt + F4')"
      ],
      "execution_count": null,
      "outputs": []
    },
    {
      "cell_type": "code",
      "metadata": {
        "id": "9D_zRz3E06UL"
      },
      "source": [
        "#Copying the information from given text file\n",
        "excelpath0 = os.getcwd() + \"\\Documents\\Task4\\Email.txt\" \n",
        "cf.launch_any_exe_bat_application(excelpath0)\n",
        "cf.key_press(\"Ctrl + A\")\n",
        "cf.key_press(\"Ctrl + C\")\n",
        "cf.key_press(\"Alt + F4\")"
      ],
      "execution_count": null,
      "outputs": []
    },
    {
      "cell_type": "code",
      "metadata": {
        "id": "nXK4ntml5GZX"
      },
      "source": [
        "#it is a list of 5 text files\n",
        "Text = [excelpath10,excelpath12,excelpath13,excelpath14,excelpath15]"
      ],
      "execution_count": 6,
      "outputs": []
    },
    {
      "cell_type": "code",
      "metadata": {
        "id": "doal7GgebL_4"
      },
      "source": [
        "#Pasting the copied data into new text files \n",
        "for i in range(5):\n",
        "    cf.launch_any_exe_bat_application(Text[i])\n",
        "    cf.key_press(\"Ctrl + V\")\n",
        "    cf.key_press(\"Ctrl + S\")\n",
        "    cf.key_press(\"Alt + F4\")"
      ],
      "execution_count": null,
      "outputs": []
    },
    {
      "cell_type": "code",
      "metadata": {
        "colab": {
          "base_uri": "https://localhost:8080/"
        },
        "id": "Qj3hOhIXiVkD",
        "outputId": "a3c4b000-342b-4815-cfe4-664127f4e38d"
      },
      "source": [
        "#Printing the column names of the New modified excel file\n",
        "headers = cf.excel_get_all_header_columns(excelpath1)\n",
        "print(headers)"
      ],
      "execution_count": 7,
      "outputs": [
        {
          "output_type": "stream",
          "text": [
            "['Email Id', 'Name', 'Hackathon version', 'Date']\n"
          ],
          "name": "stdout"
        }
      ]
    },
    {
      "cell_type": "markdown",
      "metadata": {
        "id": "m5fAmzjmyeiv"
      },
      "source": [
        "since to make changes in the text files ,input should be taken from the New excel file.So,\n",
        "Taking the data from the new excel file which will be used as input for the text files changes"
      ]
    },
    {
      "cell_type": "code",
      "metadata": {
        "colab": {
          "base_uri": "https://localhost:8080/"
        },
        "id": "lLOh7_pQkvM8",
        "outputId": "7d74e3f5-5e65-4a8a-8853-c8e842e70415"
      },
      "source": [
        "#Input for selecting Name's\n",
        "data = []\n",
        "row, column =cf.excel_get_row_column_count(excelpath1)\n",
        "for i in range(row-1):\n",
        "      temp = cf.excel_get_single_cell(excelpath,cellNumber=i)\n",
        "      data.append(temp)\n",
        "print(data)"
      ],
      "execution_count": 9,
      "outputs": [
        {
          "output_type": "stream",
          "text": [
            "['Sushil', 'Prashant', 'Karthik', 'Avinash', 'Fharook']\n"
          ],
          "name": "stdout"
        }
      ]
    },
    {
      "cell_type": "code",
      "metadata": {
        "colab": {
          "base_uri": "https://localhost:8080/"
        },
        "id": "A3SX1-iunEdj",
        "outputId": "8db06f1b-d26e-4d11-e181-a1d1fe11ab3c"
      },
      "source": [
        "#Input for selecting Mail Id's\n",
        "data1 = []\n",
        "for i in range(row-1):\n",
        "      temp = cf.excel_get_single_cell(excelpath1,cellNumber=i)\n",
        "      data1.append(temp)\n",
        "print(data1)"
      ],
      "execution_count": 10,
      "outputs": [
        {
          "output_type": "stream",
          "text": [
            "['sushil@cloint.com', 'prashant@cloint.com', 'karthik@cloint.com', 'avinash.clointfusion@gmail.com', 'fharookshaik.clointfusion@gmail.com']\n"
          ],
          "name": "stdout"
        }
      ]
    },
    {
      "cell_type": "code",
      "metadata": {
        "colab": {
          "base_uri": "https://localhost:8080/"
        },
        "id": "FsFCzUuUnSHA",
        "outputId": "228ba29c-8550-4e00-c298-dda0972a4a62"
      },
      "source": [
        "#Input for changing the hackathon version\n",
        "data2 = []\n",
        "temp = cf.excel_get_single_cell(excelpath1)\n",
        "data2.append(str(temp))\n",
        "print(data2)\n",
        "     "
      ],
      "execution_count": 11,
      "outputs": [
        {
          "output_type": "stream",
          "text": [
            "['7.0']\n"
          ],
          "name": "stdout"
        }
      ]
    },
    {
      "cell_type": "code",
      "metadata": {
        "colab": {
          "base_uri": "https://localhost:8080/"
        },
        "id": "MKOTyEbFn2ow",
        "outputId": "86cd3325-4fd8-4a1d-8932-9c1f60dfa7d2"
      },
      "source": [
        "#Input for changing Date\n",
        "data3 = []\n",
        "temp = cf.excel_get_single_cell(excelpath1)\n",
        "data3.append(str(temp))\n",
        "print(data3)"
      ],
      "execution_count": 12,
      "outputs": [
        {
          "output_type": "stream",
          "text": [
            "['10TH April 2021']\n"
          ],
          "name": "stdout"
        }
      ]
    },
    {
      "cell_type": "code",
      "metadata": {
        "id": "k44UlsxEol3E"
      },
      "source": [
        "for i in range(5):\n",
        "    cf.launch_any_exe_bat_application(Text[i])      #launching text file\n",
        "#-----------Name-------------------    \n",
        "    cf.key_press('Ctrl + H')     \n",
        "    #Change 'Folks' to respective 'name' \n",
        "    #data is a list of names taken from New Modified excel file                   \n",
        "    cf.key_write_enter(\"Folks\")                   \n",
        "    cf.key_press('tab')\n",
        "    cf.key_write_enter(data[i])\n",
        "    cf.key_press(\"Alt + F4\")\n",
        "    cf.key_press(\"Alt + A\")   \n",
        "    cf.key_press(\"Alt + F4\")\n",
        "    cf.key_press(\"Ctrl + S\")\n",
        "#-------------Hackathon version------------\n",
        "    cf.key_press('Ctrl + H')\n",
        "\n",
        "    #Change '6.0' to 'Hackathon version' \n",
        "    #data2 is a list of hackathon version taken from New Modified excel file \n",
        "\n",
        "    cf.key_write_enter(\"6.0\")\n",
        "    cf.key_press('tab')\n",
        "    cf.key_write_enter(data2)\n",
        "    cf.key_press(\"Alt + F4\")\n",
        "    cf.key_press(\"Alt + A\")\n",
        "    cf.key_press(\"Alt + F4\")\n",
        "    cf.key_press(\"Ctrl + S\")  \n",
        "\n",
        "\n",
        "    cf.key_press('Ctrl + H')\n",
        "    cf.key_write_enter(\"3.0\")\n",
        "    cf.key_press('tab')\n",
        "    cf.key_write_enter(data2)\n",
        "    cf.key_press(\"Alt + F4\")\n",
        "    cf.key_press(\"Alt + A\")\n",
        "    cf.key_press(\"Alt + F4\")\n",
        "    cf.key_press(\"Ctrl + S\")\n",
        "#----------Date---------------\n",
        "\n",
        "    cf.key_press('Ctrl + H')\n",
        "    #Change 'March 13,2021' to 'Date' \n",
        "    #data3 is a list of Date taken from New Modified excel file \n",
        "    cf.key_write_enter(\"March 13, 2021\")\n",
        "    cf.key_press('tab')\n",
        "    cf.key_write_enter(data3)\n",
        "    cf.key_press(\"Alt + F4\")\n",
        "    cf.key_press(\"Alt + A\")\n",
        "    cf.key_press(\"Alt + F4\")\n",
        "    cf.key_press(\"Ctrl + S\")\n",
        "\n",
        "    cf.key_press('Alt + F4')\n"
      ],
      "execution_count": null,
      "outputs": []
    },
    {
      "cell_type": "code",
      "metadata": {
        "id": "4oP42RwhEE8_"
      },
      "source": [
        "username = cf.gui_get_any_input_from_user(\"Email Username/Login\") #GUI pop-up window \n",
        "\n",
        "password = cf.gui_get_any_input_from_user(\"your Email Password\",True) #GUI pop-up window\n",
        "\n",
        "cf.launch_website_h(\"https://mail.google.com\")\n",
        "\n",
        "cf.browser_write_h(username,\"email\") #Type email address\n",
        "\n",
        "cf.browser_mouse_click_h(\"next\") #Type BLUE next button\n",
        "\n",
        "cf.browser_write_h(password,\"enter your password\") #Type password\n",
        "\n",
        "cf.browser_mouse_click_h(\"next\") #Type BLUE next button\n",
        "\n",
        "for i in range(5):\n",
        "\n",
        "\n",
        "    features_menu_element = cf.browser_locate_element_h(\"div.T-I.T-I-KE.L3\")\n",
        "\n",
        "    cf.browser_mouse_click_h(features_menu_element)\n",
        "\n",
        "    cf.key_write_enter('rithika.clointfusion@gmail.com')\n",
        "\n",
        "    cf.key_write_enter(data1[i])\n",
        "\n",
        "    subjectmail = cf.gui_get_any_input_from_user(\"Subject\")\n",
        "\n",
        "    cf.browser_write_h(subjectmail,\"Subject\") #Type the subject\n",
        "\n",
        "    cf.key_press('tab')\n",
        "\n",
        "    cf.browser_mouse_click_h(\"Attach files\")\n",
        "\n",
        "    cf.key_write_enter(Text[i])\n",
        "\n",
        "    cf.browser_mouse_click_h(\"Attach files\")\n",
        "\n",
        "    cf.key_write_enter(\"Email1.xlsx\")\n",
        "\n",
        "    cf.key_write_enter(\"For working code\")\n",
        "\n",
        "    cf.key_write_enter(\"https://github.com/Rithika2000/Intern-Trainingwork/tree/main/Task4\")\n",
        "\n",
        "    cf.browser_mouse_click_h(\"Send\")\n"
      ],
      "execution_count": 24,
      "outputs": []
    }
  ]
}