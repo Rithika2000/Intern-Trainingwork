{
  "nbformat": 4,
  "nbformat_minor": 0,
  "metadata": {
    "colab": {
      "name": "Task3.ipynb",
      "provenance": [],
      "collapsed_sections": []
    },
    "kernelspec": {
      "name": "python3",
      "display_name": "Python 3"
    }
  },
  "cells": [
    {
      "cell_type": "code",
      "metadata": {
        "id": "teJ-fIBx1xP-",
        "colab": {
          "base_uri": "https://localhost:8080/"
        },
        "outputId": "02511cae-0a87-43e4-83e2-7d1fff4c121e"
      },
      "source": [
        "import ClointFusion as cf\n",
        "import os\n",
        "import cryptocode"
      ],
      "execution_count": null,
      "outputs": [
        {
          "output_type": "stream",
          "text": [
            "Welcome to ClointFusion, Made in India with ❤️ .Version: 0.0.98\n"
          ],
          "name": "stdout"
        }
      ]
    },
    {
      "cell_type": "code",
      "metadata": {
        "colab": {
          "base_uri": "https://localhost:8080/"
        },
        "id": "gwbuv84l8NK5",
        "outputId": "6184b27e-e94f-495f-88ff-bf8515b53cb0"
      },
      "source": [
        "excelpath = os.getcwd() + \"\\ModExcel.xlsx\" \n",
        "print(excelpath)"
      ],
      "execution_count": null,
      "outputs": [
        {
          "output_type": "stream",
          "text": [
            "C:\\Users\\G Rithika\\ModExcel.xlsx\n"
          ],
          "name": "stdout"
        }
      ]
    },
    {
      "cell_type": "code",
      "metadata": {
        "id": "Loi2aU1ywfZt"
      },
      "source": [
        "cf.launch_any_exe_bat_application(excelpath) \n",
        "#cf.key_press('Alt + A')\n",
        "cf.key_press('ctrl + shift + L')    #shortcut for Filter\n",
        "cf.key_press('ctrl + F')            #To Find\n",
        "cf.key_write_enter('Region')\n",
        "cf.key_hit_enter()\n",
        "cf.key_press('Alt + F4')\n",
        "cf.key_press()      # 'Alt + Down Arrow + F' \n",
        "cf.key_press('left Arrow')\n",
        "cf.key_press('Down Arrow')\n",
        "cf.key_press('space')\n",
        "cf.key_press('Down Arrow')\n",
        "cf.key_press('space')\n",
        "\n",
        "cf.key_hit_enter()\n",
        "cf.key_press('ctrl + A')\n",
        "cf.key_press('ctrl + C')\n",
        "cf.key_press('Shift + F11')     #To copy and paste in new worksheet\n",
        "cf.key_press('ctrl + V')"
      ],
      "execution_count": null,
      "outputs": []
    },
    {
      "cell_type": "code",
      "metadata": {
        "id": "lrh-eUQGa3Tl",
        "colab": {
          "base_uri": "https://localhost:8080/"
        },
        "outputId": "3f0ce246-3ed6-4d3d-cc1f-23f13fa8fa1d"
      },
      "source": [
        "cf.excel_sort_columns(excelpath,'Sheet2')\n"
      ],
      "execution_count": null,
      "outputs": [
        {
          "output_type": "execute_result",
          "data": {
            "text/plain": [
              "True"
            ]
          },
          "metadata": {
            "tags": []
          },
          "execution_count": 12
        }
      ]
    },
    {
      "cell_type": "code",
      "metadata": {
        "id": "HTgN-2ZTv6dN"
      },
      "source": [
        "cf.launch_any_exe_bat_application(excelpath) \n",
        "cf.key_press('Ctrl + F')\n",
        "cf.key_write_enter('Total')\n",
        "cf.key_press('Alt + F4')\n",
        "cf.key_press('Ctrl + Space')    #To select the entire column\n",
        "cf.key_press('Alt + H')         #Shows the entire top menu shortcut keys\n",
        "cf.key_press('L')               # Alt + H + L  to go to conditional Formatting\n",
        "cf.key_press('S')               # Alt + H + S to go to conditional formatting and select colour scale\n",
        "cf.key_hit_enter()"
      ],
      "execution_count": null,
      "outputs": []
    },
    {
      "cell_type": "code",
      "metadata": {
        "id": "7-85jQpI1Jnn"
      },
      "source": [
        "cf.launch_any_exe_bat_application(excelpath)\n",
        "cf.key_press('Ctrl + Space')\n",
        "cf.key_press('Shift + Space')\n",
        "cf.key_press('Alt + H')\n",
        "cf.key_press('B')\n",
        "cf.key_press('A')\n",
        "cf.key_hit_enter()\n"
      ],
      "execution_count": null,
      "outputs": []
    },
    {
      "cell_type": "code",
      "metadata": {
        "id": "XkTKxOPi8_GE"
      },
      "source": [
        "cf.launch_any_exe_bat_application(excelpath)\n",
        "cf.key_press('Ctrl + F')\n",
        "cf.key_write_enter('OrderDate')\n",
        "cf.key_press('Alt + F4')\n",
        "cf.key_press('Shift + Space')\n",
        "cf.key_press('Alt + H')\n",
        "cf.key_press('H')\n",
        "cf.key_press('Right Arrow')\n",
        "cf.key_hit_enter()"
      ],
      "execution_count": null,
      "outputs": []
    },
    {
      "cell_type": "code",
      "metadata": {
        "id": "CXMHzAqY95K7"
      },
      "source": [
        "cf.launch_any_exe_bat_application(excelpath)\n",
        "cf.key_press('Alt + H')\n",
        "cf.key_press('F')\n",
        "cf.key_press('C')        #'Alt + H + F + C'\n",
        "cf.key_press('Down Arrow')\n",
        "cf.key_press('Right Arrow')\n",
        "cf.key_press('Right Arrow')\n",
        "cf.key_hit_enter()"
      ],
      "execution_count": null,
      "outputs": []
    },
    {
      "cell_type": "code",
      "metadata": {
        "id": "5_V1EVy4Lji5"
      },
      "source": [
        "username = cf.gui_get_any_input_from_user(\"Email Username/Login\") #GUI pop-up window \n",
        "\n",
        "password = cf.gui_get_any_input_from_user(\"your Email Password\",True) #GUI pop-up window\n",
        "\n",
        "cf.launch_website_h(\"https://mail.google.com\")\n",
        "\n",
        "cf.browser_write_h(username,\"email\") #Type email address\n",
        "\n",
        "cf.browser_mouse_click_h(\"next\") #Type BLUE next button\n",
        "\n",
        "cf.browser_write_h(password,\"enter your password\") #Type password\n",
        "\n",
        "cf.browser_mouse_click_h(\"next\") #Type BLUE next button\n",
        "\n",
        "features_menu_element = cf.browser_locate_element_h(\"div.T-I.T-I-KE.L3\")\n",
        "\n",
        "cf.browser_mouse_click_h(features_menu_element)\n",
        "\n",
        "cf.key_write_enter('rithika.clointfusion@gmail.com')\n",
        "\n",
        "cf.key_write_enter('fharookshaik.clointfusion@gmail.com , avinash.clointfusion@gmail.com')\n",
        "\n",
        "subjectmail = cf.gui_get_any_input_from_user(\"Email Subject\")\n",
        "\n",
        "cf.browser_write_h(subjectmail,\"Subject\") #Type the subject\n",
        "\n",
        "cf.key_press('tab') #Move from Subject field to Body part\n",
        "\n",
        "cf.key_write_enter(\"This is a mail sent by a bot made of ClointFusion with a dummy information.\")\n",
        "\n",
        "#attachment = cf.browser_locate_element_h(\"div#:qn.a1.aaA.aMZ\")    getting error in this\n",
        "\n",
        "#cf.browser_mouse_click_h(attachment)\n",
        "\n",
        "cf.browser_mouse_click_h(\"Attach files\")\n",
        "\n",
        "cf.key_write_enter(\"ModExcel.xlsx\")\n",
        "\n",
        "cf.key_write_enter(\"https://github.com/Rithika2000/Intern-Trainingwork/tree/main/Task3\")\n",
        "\n",
        "cf.browser_mouse_click_h(\"Send\")"
      ],
      "execution_count": null,
      "outputs": []
    }
  ]
}